{
 "cells": [
  {
   "cell_type": "markdown",
   "id": "dd3c8a1d-a99c-4334-87e8-efe02efe87c3",
   "metadata": {},
   "source": [
    "Q1 - Create a vehicle class with an init method having instance variables as name_of_vehicle, max_speed\n",
    "and average_of_vehicle."
   ]
  },
  {
   "cell_type": "code",
   "execution_count": 2,
   "id": "db626236-c0b0-4021-b4c2-b07b6e9727e5",
   "metadata": {},
   "outputs": [],
   "source": [
    "class vehicle :\n",
    "    \n",
    "    def __init__(self, name_of_vehicle, max_speed,average_of_vehicle):\n",
    "        \n",
    "        self.name_of_vehicle = name_of_vehicle\n",
    "        self.max_speed = max_speed\n",
    "        self.average_of_vehicle = average_of_vehicle\n",
    "    \n",
    "    "
   ]
  },
  {
   "cell_type": "code",
   "execution_count": 7,
   "id": "9a3be378-85f0-4f07-ba15-0320b5925740",
   "metadata": {},
   "outputs": [],
   "source": [
    "bus = vehicle(\"ashok leyland\" , 120 ,40)"
   ]
  },
  {
   "cell_type": "code",
   "execution_count": 8,
   "id": "37ae2fb7-1b04-4352-b8b9-bd20978d4361",
   "metadata": {},
   "outputs": [],
   "source": [
    "bike = vehicle(\"tata\" , 200 , 50)"
   ]
  },
  {
   "cell_type": "markdown",
   "id": "7abf75f3-0251-4bd1-8c7e-2c8025cd9041",
   "metadata": {},
   "source": [
    "Q2 - \n",
    "Create a child class car from the vehicle class created in Que 1, which will inherit the vehicle class.\n",
    "Create a method named seating_capacity which takes capacity as an argument and returns the name of\n",
    "the vehicle and its seating capacity."
   ]
  },
  {
   "cell_type": "code",
   "execution_count": 13,
   "id": "d5f37604-345d-4d26-832d-398712435bc1",
   "metadata": {},
   "outputs": [],
   "source": [
    "class car(vehicle):\n",
    "    \n",
    "    def seating_capacity(self, capacity):\n",
    "        return f\"{self.name_of_vehicle} can seat {capacity} people.\"\n",
    "    "
   ]
  },
  {
   "cell_type": "code",
   "execution_count": 25,
   "id": "07d0045b-3d93-4ad9-ac9b-de2c7d030666",
   "metadata": {},
   "outputs": [],
   "source": [
    "my_car = car(\"tata\" , 120 , 30 )\n"
   ]
  },
  {
   "cell_type": "code",
   "execution_count": 26,
   "id": "97f79bac-4ca8-4f34-8eda-7d879b08973f",
   "metadata": {},
   "outputs": [
    {
     "data": {
      "text/plain": [
       "'tata can seat 5 people.'"
      ]
     },
     "execution_count": 26,
     "metadata": {},
     "output_type": "execute_result"
    }
   ],
   "source": [
    "my_car.seating_capacity(5)"
   ]
  },
  {
   "cell_type": "code",
   "execution_count": 27,
   "id": "960e7a5d-cc1c-4b2d-9ee9-98241d8d1200",
   "metadata": {},
   "outputs": [
    {
     "data": {
      "text/plain": [
       "30"
      ]
     },
     "execution_count": 27,
     "metadata": {},
     "output_type": "execute_result"
    }
   ],
   "source": [
    "my_car.average_of_vehicle"
   ]
  },
  {
   "cell_type": "markdown",
   "id": "9c203539-a4d7-41ae-9af4-b05a0660e884",
   "metadata": {},
   "source": [
    "Q3.\n",
    "What is multiple inheritance? Write a python code to demonstrate multiple inheritance.\n",
    "\n",
    "ANS - \n",
    "\n",
    "Multiple inheritance is a feature in object-oriented programming languages like Python that allows a class to inherit attributes and methods from more than one parent class. This means that a child class can inherit properties and behaviors from multiple parent classes. "
   ]
  },
  {
   "cell_type": "code",
   "execution_count": 7,
   "id": "704f4b9b-e2ea-4b24-b21d-356b2b3221a5",
   "metadata": {},
   "outputs": [],
   "source": [
    "class class_A:\n",
    "    \n",
    "    def test_class_A(self):\n",
    "        return \" this is my class A\"\n",
    "    "
   ]
  },
  {
   "cell_type": "code",
   "execution_count": 8,
   "id": "86bb2901-2c86-41a6-8246-9b9df841414d",
   "metadata": {},
   "outputs": [],
   "source": [
    "class class_B:\n",
    "    \n",
    "    def test_class_B(self):\n",
    "        return \"this is my class B\""
   ]
  },
  {
   "cell_type": "code",
   "execution_count": 9,
   "id": "1953d0c8-9a92-492b-8d0d-27ba495ae58a",
   "metadata": {},
   "outputs": [],
   "source": [
    "class class_C(class_A , class_B):\n",
    "    pass"
   ]
  },
  {
   "cell_type": "code",
   "execution_count": 10,
   "id": "f377f92c-e2c1-4848-af7c-34ce6416df96",
   "metadata": {},
   "outputs": [],
   "source": [
    "obj_class_c = class_C()"
   ]
  },
  {
   "cell_type": "code",
   "execution_count": 11,
   "id": "11ed3231-4d45-47bb-8788-74ad8b6d5719",
   "metadata": {},
   "outputs": [
    {
     "data": {
      "text/plain": [
       "' this is my class A'"
      ]
     },
     "execution_count": 11,
     "metadata": {},
     "output_type": "execute_result"
    }
   ],
   "source": [
    "obj_class_c.test_class_A()"
   ]
  },
  {
   "cell_type": "code",
   "execution_count": 12,
   "id": "dd573166-3b46-437f-8928-17544653fe7d",
   "metadata": {},
   "outputs": [
    {
     "data": {
      "text/plain": [
       "'this is my class B'"
      ]
     },
     "execution_count": 12,
     "metadata": {},
     "output_type": "execute_result"
    }
   ],
   "source": [
    "obj_class_c.test_class_B()"
   ]
  },
  {
   "cell_type": "markdown",
   "id": "56c8d748-d325-4f08-a8c8-798972a63aeb",
   "metadata": {},
   "source": [
    "Q4.\n",
    "\n",
    "What are getter and setter in python? Create a class and create a getter and a setter method in this\n",
    "class.\n",
    "\n",
    "Ans - \n",
    "Getter and setter methods are used to control access to an object's attributes. They allow you to get (retrieve) and set (modify) the values of class attributes in a controlled manner, which can help encapsulate the data and add additional logic if needed."
   ]
  },
  {
   "cell_type": "code",
   "execution_count": 31,
   "id": "a870138d-dcb7-437e-a427-fac227eb1d76",
   "metadata": {},
   "outputs": [],
   "source": [
    "class Student:\n",
    "    \n",
    "    def __init__(self,name,age):\n",
    "        self.name = name\n",
    "        self.age = age\n",
    "        \n",
    "    def get_name(self):\n",
    "        return self.name\n",
    "    \n",
    "    def set_name(self , new_name):\n",
    "        self.name = new_name\n",
    "    \n",
    "    def get_age(self):\n",
    "        return self.age\n",
    "    \n",
    "    def set_age(self, new_age):\n",
    "        self.age = new_age\n",
    "        \n",
    "student1 = Student(\"ayush\" , 20 )\n"
   ]
  },
  {
   "cell_type": "code",
   "execution_count": 32,
   "id": "3090a466-6669-4287-9db5-f6abc190b245",
   "metadata": {},
   "outputs": [
    {
     "data": {
      "text/plain": [
       "'ayush'"
      ]
     },
     "execution_count": 32,
     "metadata": {},
     "output_type": "execute_result"
    }
   ],
   "source": [
    "student1.get_name()"
   ]
  },
  {
   "cell_type": "code",
   "execution_count": 33,
   "id": "b0d94506-cc91-4c41-b716-60d7781790ed",
   "metadata": {},
   "outputs": [
    {
     "data": {
      "text/plain": [
       "20"
      ]
     },
     "execution_count": 33,
     "metadata": {},
     "output_type": "execute_result"
    }
   ],
   "source": [
    "student1.get_age()"
   ]
  },
  {
   "cell_type": "code",
   "execution_count": 34,
   "id": "6aedb807-630e-4018-87a1-ba10e292bdd5",
   "metadata": {},
   "outputs": [],
   "source": [
    "student1.set_name(\"sweta\")\n",
    "student1.set_age(18)"
   ]
  },
  {
   "cell_type": "code",
   "execution_count": 35,
   "id": "90bc9d8b-6214-4221-ada0-38009d500757",
   "metadata": {},
   "outputs": [
    {
     "data": {
      "text/plain": [
       "'sweta'"
      ]
     },
     "execution_count": 35,
     "metadata": {},
     "output_type": "execute_result"
    }
   ],
   "source": [
    "student1.get_name()"
   ]
  },
  {
   "cell_type": "code",
   "execution_count": 36,
   "id": "8fdacd5f-a5ad-40b3-aefd-127a39dfaaf1",
   "metadata": {},
   "outputs": [
    {
     "data": {
      "text/plain": [
       "18"
      ]
     },
     "execution_count": 36,
     "metadata": {},
     "output_type": "execute_result"
    }
   ],
   "source": [
    "student1.get_age()"
   ]
  },
  {
   "cell_type": "markdown",
   "id": "a69a3354-459e-4d40-85be-d352150b7bac",
   "metadata": {},
   "source": [
    "Q5.\n",
    "What is method overriding in python? Write a python code to demonstrate method overriding.\n",
    "Ans - \n",
    "\n",
    "Method overriding is a concept in object-oriented programming where a subclass provides a specific implementation for a method that is already defined in its superclass. The overridden method in the subclass should have the same name, parameters, and return type as the method in the superclass. This allows you to customize the behavior of a method for a specific subclass while still benefiting from the inheritance hierarchy."
   ]
  },
  {
   "cell_type": "code",
   "execution_count": 37,
   "id": "10a6ebf3-8cfa-43e6-a02e-2e684a5a1bb3",
   "metadata": {},
   "outputs": [],
   "source": [
    "class Animal:\n",
    "    def speak(self):\n",
    "        print(\"animal speaks\")\n",
    "        "
   ]
  },
  {
   "cell_type": "code",
   "execution_count": 38,
   "id": "7d8ca53f-25a8-4922-b042-a9b08e38865d",
   "metadata": {},
   "outputs": [],
   "source": [
    "class Lion(Animal):\n",
    "    def speak(self):\n",
    "        print(\"lion roar\")"
   ]
  },
  {
   "cell_type": "code",
   "execution_count": 39,
   "id": "2eef0774-e1cb-4f5a-9a80-2530a50d0357",
   "metadata": {},
   "outputs": [],
   "source": [
    "class cat(Animal):\n",
    "    def speak(self):\n",
    "        print(\"cat meows\")"
   ]
  },
  {
   "cell_type": "code",
   "execution_count": 40,
   "id": "13f3a511-41e6-44a8-8655-f7a6b30c33bd",
   "metadata": {},
   "outputs": [],
   "source": [
    "lion_obj = Lion()\n",
    "cat_obj = cat()"
   ]
  },
  {
   "cell_type": "code",
   "execution_count": 41,
   "id": "9f5efaa8-991d-4ad9-9313-247b1efd6267",
   "metadata": {},
   "outputs": [
    {
     "name": "stdout",
     "output_type": "stream",
     "text": [
      "lion roar\n"
     ]
    }
   ],
   "source": [
    "lion_obj.speak()"
   ]
  },
  {
   "cell_type": "code",
   "execution_count": null,
   "id": "c2a38d09-0de6-446f-b77c-8d5096188d58",
   "metadata": {},
   "outputs": [],
   "source": []
  }
 ],
 "metadata": {
  "kernelspec": {
   "display_name": "Python 3 (ipykernel)",
   "language": "python",
   "name": "python3"
  },
  "language_info": {
   "codemirror_mode": {
    "name": "ipython",
    "version": 3
   },
   "file_extension": ".py",
   "mimetype": "text/x-python",
   "name": "python",
   "nbconvert_exporter": "python",
   "pygments_lexer": "ipython3",
   "version": "3.10.8"
  }
 },
 "nbformat": 4,
 "nbformat_minor": 5
}
